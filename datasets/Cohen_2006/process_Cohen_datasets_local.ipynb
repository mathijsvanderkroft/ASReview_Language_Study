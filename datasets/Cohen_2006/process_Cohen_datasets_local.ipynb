{
 "cells": [
  {
   "cell_type": "code",
   "execution_count": 1,
   "metadata": {},
   "outputs": [],
   "source": [
    "import numpy as np\n",
    "import pandas as pd\n",
    "from pathlib import Path\n",
    "\n",
    "# visualization\n",
    "import matplotlib.pyplot as plt\n",
    "from wordcloud import WordCloud, STOPWORDS, ImageColorGenerator"
   ]
  },
  {
   "cell_type": "markdown",
   "metadata": {},
   "source": [
    "## Read and clean datasets"
   ]
  },
  {
   "cell_type": "code",
   "execution_count": 2,
   "metadata": {},
   "outputs": [],
   "source": [
    "def clean_Cohen_datasets(path):\n",
    "    \"\"\"Read local raw datasets and clean them\"\"\"\n",
    "    \n",
    "    # read datasets\n",
    "    df = pd.read_csv(path)\n",
    "    \n",
    "    # rename columns\n",
    "    df.rename(columns={\"abstracts\":\"abstract\", \"label1\":\"label_abstract_screening\", \"label2\":\"label_included\"}, inplace=True)\n",
    "    \n",
    "    # recode inclusion indicators\n",
    "    df.label_abstract_screening = np.where(df.label_abstract_screening == \"I\", 1, 0)\n",
    "    df.label_included = np.where(df.label_included == \"I\", 1, 0)\n",
    "    \n",
    "    # add record id\n",
    "    df.insert(0, \"record_id\", df.index + 1)\n",
    "    \n",
    "    return df"
   ]
  },
  {
   "cell_type": "code",
   "execution_count": 3,
   "metadata": {},
   "outputs": [],
   "source": [
    "df_ACEInhibitors = clean_Cohen_datasets(\"raw/ACEInhibitors.csv\")\n",
    "df_ADHD = clean_Cohen_datasets(\"raw/ADHD.csv\")\n",
    "df_Antihistamines = clean_Cohen_datasets(\"raw/Antihistamines.csv\")\n",
    "df_AtypicalAntipsychotics = clean_Cohen_datasets(\"raw/AtypicalAntipsychotics.csv\")\n",
    "df_BetaBlockers = clean_Cohen_datasets(\"raw/BetaBlockers.csv\")\n",
    "df_CalciumChannelBlockers = clean_Cohen_datasets(\"raw/CalciumChannelBlockers.csv\")\n",
    "df_Estrogens = clean_Cohen_datasets(\"raw/Estrogens.csv\")\n",
    "df_NSAIDS = clean_Cohen_datasets(\"raw/NSAIDS.csv\")\n",
    "df_Opiods = clean_Cohen_datasets(\"raw/Opiods.csv\")\n",
    "df_OralHypoglycemics = clean_Cohen_datasets(\"raw/OralHypoglycemics.csv\")\n",
    "df_ProtonPumpInhibitors = clean_Cohen_datasets(\"raw/ProtonPumpInhibitors.csv\")\n",
    "df_SkeletalMuscleRelaxants = clean_Cohen_datasets(\"raw/SkeletalMuscleRelaxants.csv\")\n",
    "df_Statins = clean_Cohen_datasets(\"raw/Statins.csv\")\n",
    "df_Triptans = clean_Cohen_datasets(\"raw/Triptans.csv\")\n",
    "df_UrinaryIncontinence = clean_Cohen_datasets(\"raw/UrinaryIncontinence.csv\")"
   ]
  },
  {
   "cell_type": "markdown",
   "metadata": {},
   "source": [
    "## Export datasets"
   ]
  },
  {
   "cell_type": "code",
   "execution_count": 4,
   "metadata": {},
   "outputs": [],
   "source": [
    "Path(\"output/local\").mkdir(parents=True, exist_ok=True)\n",
    "df_ACEInhibitors.to_csv(\"output/local/ACEInhibitors.csv\", index=False)\n",
    "df_ADHD.to_csv(\"output/local/ADHD.csv\", index=False)\n",
    "df_Antihistamines.to_csv(\"output/local/Antihistamines.csv\", index=False)\n",
    "df_AtypicalAntipsychotics.to_csv(\"output/local/AtypicalAntipsychotics.csv\", index=False)\n",
    "df_BetaBlockers.to_csv(\"output/local/BetaBlockers.csv\", index=False)\n",
    "df_CalciumChannelBlockers.to_csv(\"output/local/CalciumChannelBlockers.csv\", index=False)\n",
    "df_Estrogens.to_csv(\"output/local/Estrogens.csv\", index=False)\n",
    "df_NSAIDS.to_csv(\"output/local/NSAIDS.csv\", index=False)\n",
    "df_Opiods.to_csv(\"output/local/Opiods.csv\", index=False)\n",
    "df_OralHypoglycemics.to_csv(\"output/local/OralHypoglycemics.csv\", index=False)\n",
    "df_ProtonPumpInhibitors.to_csv(\"output/local/ProtonPumpInhibitors.csv\", index=False)\n",
    "df_SkeletalMuscleRelaxants.to_csv(\"output/local/SkeletalMuscleRelaxants.csv\", index=False)\n",
    "df_Statins.to_csv(\"output/local/Statins.csv\", index=False)\n",
    "df_Triptans.to_csv(\"output/local/Triptans.csv\", index=False)\n",
    "df_UrinaryIncontinence.to_csv(\"output/local/UrinaryIncontinence.csv\", index=False)"
   ]
  },
  {
   "cell_type": "markdown",
   "metadata": {},
   "source": [
    "## Dataset statistics"
   ]
  },
  {
   "cell_type": "markdown",
   "metadata": {},
   "source": [
    "See `process_Cohen_datasets_online.ipynb`."
   ]
  }
 ],
 "metadata": {
  "kernelspec": {
   "display_name": "Python 3",
   "language": "python",
   "name": "python3"
  },
  "language_info": {
   "codemirror_mode": {
    "name": "ipython",
    "version": 3
   },
   "file_extension": ".py",
   "mimetype": "text/x-python",
   "name": "python",
   "nbconvert_exporter": "python",
   "pygments_lexer": "ipython3",
   "version": "3.7.5"
  }
 },
 "nbformat": 4,
 "nbformat_minor": 4
}
